{
  "nbformat": 4,
  "nbformat_minor": 0,
  "metadata": {
    "colab": {
      "provenance": []
    },
    "kernelspec": {
      "name": "python3",
      "display_name": "Python 3"
    },
    "language_info": {
      "name": "python"
    }
  },
  "cells": [
    {
      "cell_type": "code",
      "execution_count": 50,
      "metadata": {
        "id": "EsLwdB_fSwKj"
      },
      "outputs": [],
      "source": [
        "import random\n",
        "\n",
        "class Neuronio:\n",
        "    def __init__(self, n_entradas, taxa_aprendizado=0.1, bias=1):\n",
        "        self.bias = bias\n",
        "        self.taxa_aprendizado = taxa_aprendizado\n",
        "        # Inicializar com pesos aleatórios\n",
        "        #self.pesos = [random.uniform(-1, 1) for _ in range(n_entradas + 1)]\n",
        "        # Inicializar com 0\n",
        "        self.pesos = [0,0,0]\n",
        "        self.ult_entrada = None\n",
        "\n",
        "    def ativacao(self, x):\n",
        "        return 1 if x >= 0 else 0\n",
        "\n",
        "    def somatorio(self, entradas):\n",
        "        return sum(p * x for p, x in zip(self.pesos, [self.bias] + entradas))\n",
        "\n",
        "    def saida(self, entradas):\n",
        "        self.ult_entrada = entradas\n",
        "        return self.ativacao(self.somatorio(entradas))\n",
        "\n",
        "    def treinar(self, dados, epocas=10):\n",
        "        for epoca in range(epocas):\n",
        "            erro_total = 0\n",
        "            for entradas, esperado in dados:\n",
        "                saida = self.saida(entradas)\n",
        "                print(f\"Entradas {entradas} - Saída {saida} - Saída Esperada {esperado}\")\n",
        "                erro = esperado - saida\n",
        "                if erro != 0:\n",
        "                    # Atualiza pesos\n",
        "                    #print(f\"Época {epoca} - Entrada [{entradas}] Pesos Antigos  {self.pesos}\")\n",
        "                    for i in range(len(self.pesos)):\n",
        "                        xi = self.bias if i == 0 else entradas[i - 1]\n",
        "                        self.pesos[i] = self.pesos[i] + self.taxa_aprendizado * erro * xi\n",
        "                    #print(f\"Época {epoca} - Entrada [{entradas}] Pesos Atualizados  {self.pesos}\")\n",
        "                erro_total += abs(erro)\n",
        "            if erro_total == 0:\n",
        "                break\n",
        "            print(f\"[] Época {epoca+1}, erro total: {erro_total} [Pesos  {self.pesos}]\")\n",
        "\n",
        "\n",
        "    def __call__(self, entradas):\n",
        "        return self.saida(entradas)\n",
        "\n",
        "    def __repr__(self):\n",
        "        return f\"Neuronio(pesos={self.pesos})\""
      ]
    },
    {
      "cell_type": "code",
      "source": [
        "# Exemplo: AND com dois neurônios interligados (simulação em cascata)\n",
        "if __name__ == \"__main__\":\n",
        "    # Dados para o AND\n",
        "    dados_and = [\n",
        "        ([0, 0], 0),\n",
        "        ([0, 1], 0),\n",
        "        ([1, 0], 0),\n",
        "        ([1, 1], 1),\n",
        "    ]\n",
        "\n",
        "    n1 = Neuronio(2, taxa_aprendizado=0.5, bias= 1.5)\n",
        "    n1.treinar(dados_and)\n",
        "\n",
        "\n",
        "    print(\"\\nTestando interconexão:\")\n",
        "    for entrada, _ in dados_and:\n",
        "        saida_n1 = n1(entrada)\n",
        "        print(f\"Entrada: {entrada} → N1: {saida_n1}\")\n",
        "    print(n1)\n",
        ""
      ],
      "metadata": {
        "colab": {
          "base_uri": "https://localhost:8080/"
        },
        "id": "aYi9TjfIS0_n",
        "outputId": "c8cb285f-251a-4350-eee8-d1191580aec3"
      },
      "execution_count": 51,
      "outputs": [
        {
          "output_type": "stream",
          "name": "stdout",
          "text": [
            "Entradas [0, 0] - Saída 1 - Saída Esperada 0\n",
            "Entradas [0, 1] - Saída 0 - Saída Esperada 0\n",
            "Entradas [1, 0] - Saída 0 - Saída Esperada 0\n",
            "Entradas [1, 1] - Saída 0 - Saída Esperada 1\n",
            "[] Época 1, erro total: 2 [Pesos  [0.0, 0.5, 0.5]]\n",
            "Entradas [0, 0] - Saída 1 - Saída Esperada 0\n",
            "Entradas [0, 1] - Saída 0 - Saída Esperada 0\n",
            "Entradas [1, 0] - Saída 0 - Saída Esperada 0\n",
            "Entradas [1, 1] - Saída 0 - Saída Esperada 1\n",
            "[] Época 2, erro total: 2 [Pesos  [0.0, 1.0, 1.0]]\n",
            "Entradas [0, 0] - Saída 1 - Saída Esperada 0\n",
            "Entradas [0, 1] - Saída 0 - Saída Esperada 0\n",
            "Entradas [1, 0] - Saída 0 - Saída Esperada 0\n",
            "Entradas [1, 1] - Saída 1 - Saída Esperada 1\n",
            "[] Época 3, erro total: 1 [Pesos  [-0.75, 1.0, 1.0]]\n",
            "Entradas [0, 0] - Saída 0 - Saída Esperada 0\n",
            "Entradas [0, 1] - Saída 0 - Saída Esperada 0\n",
            "Entradas [1, 0] - Saída 0 - Saída Esperada 0\n",
            "Entradas [1, 1] - Saída 1 - Saída Esperada 1\n",
            "\n",
            "Testando interconexão:\n",
            "Entrada: [0, 0] → N1: 0\n",
            "Entrada: [0, 1] → N1: 0\n",
            "Entrada: [1, 0] → N1: 0\n",
            "Entrada: [1, 1] → N1: 1\n",
            "Neuronio(pesos=[-0.75, 1.0, 1.0])\n"
          ]
        }
      ]
    }
  ]
}